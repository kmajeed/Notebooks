{
 "cells": [
  {
   "cell_type": "markdown",
   "metadata": {},
   "source": [
    "# A Spark notebook to detect clickbait news titles\n",
    "\n",
    "\n",
    "## Introduction\n",
    "The Oxford English dictionary defines clickbait as “on the internet, content whose main purpose is to attract attention and encourage visitors to click on a link to a particular web page”. Informally, clickbait headlines are those which satisfy two main criteria:\n",
    "\n",
    "    They exploit the so-called “curiosity gap” by not explaining the full article contents\n",
    "    They provide misleading information about the article contents\n",
    "\n",
    "In other words, these headlines contain text which leaves the reader curious about what the article contents might be, or they contain text about topics not really covered in the article itself. Examples of clickbait headline include things like\n",
    "\n",
    "    I left my husband and daughter home alone, and you’ll never believe what happened!\n",
    "    19 Tweets anyone addicted to diet coke will totally relate to\n",
    "    What these pilots do with dogs is the most brilliant thing I’ve ever seen\n",
    "    She picks this object off the ground, but watch what happens when it starts to move!\n",
    "\n",
    "Since clickbait is becomming increasingly common, and is genereally considered a nuisance to internet users, let’s see if we can use machine learning and natural language processing to identify these headlines automatically. \n",
    "\n",
    "[Chakraborty et al.](http://cse.iitkgp.ac.in/~abhijnan/papers/chakraborty_clickbait_asonam16.pdf) performed a study on clickbait headlines and is covered in [this informative article](https://www.linkedin.com/pulse/identifying-clickbaits-using-machine-learning-abhishek-thakur).\n",
    "\n",
    "We will use the the dataset from Chakraborty et al. study which is publicly available, and can be found [here](https://github.com/bhargaviparanjape/clickbait/tree/master/dataset). \n",
    "\n",
    "The data contain 16,000 clickbait headlines from BuzzFeed, Upworthy, ViralNova, Thatscoop, Scoopwhoop and ViralStories, along with 16,000 non-clickbait headlines from WikiNews, New York Times, The Guardian, and The Hindu. Let’s import some useful Python libraries, and read in the dataset."
   ]
  },
  {
   "cell_type": "markdown",
   "metadata": {},
   "source": [
    "## Environment setup"
   ]
  },
  {
   "cell_type": "code",
   "execution_count": 2,
   "metadata": {},
   "outputs": [],
   "source": [
    "import os\n",
    "\n",
    "memory = '8g'\n",
    "pyspark_submit_args = ' --driver-memory ' + memory + ' pyspark-shell'\n",
    "os.environ[\"PYSPARK_SUBMIT_ARGS\"] = pyspark_submit_args\n",
    "#spark.sparkContext._conf.getAll()"
   ]
  },
  {
   "cell_type": "code",
   "execution_count": 3,
   "metadata": {},
   "outputs": [],
   "source": [
    "from pyspark.sql import SparkSession\n",
    "spark = SparkSession.builder.appName('clickbait').getOrCreate()"
   ]
  },
  {
   "cell_type": "code",
   "execution_count": 4,
   "metadata": {},
   "outputs": [
    {
     "data": {
      "text/plain": [
       "[('spark.app.name', 'clickbait'),\n",
       " ('spark.rdd.compress', 'True'),\n",
       " ('spark.driver.memory', '8g'),\n",
       " ('spark.driver.port', '36413'),\n",
       " ('spark.serializer.objectStreamReset', '100'),\n",
       " ('spark.master', 'local[*]'),\n",
       " ('spark.executor.id', 'driver'),\n",
       " ('spark.submit.deployMode', 'client'),\n",
       " ('spark.app.id', 'local-1521970921964'),\n",
       " ('spark.driver.host', '192.168.1.17')]"
      ]
     },
     "execution_count": 4,
     "metadata": {},
     "output_type": "execute_result"
    }
   ],
   "source": [
    "spark.sparkContext._conf.getAll()"
   ]
  },
  {
   "cell_type": "code",
   "execution_count": 5,
   "metadata": {},
   "outputs": [],
   "source": [
    "from pyspark.ml.linalg import Vectors\n",
    "from pyspark.ml.feature import VectorAssembler, Tokenizer,StopWordsRemover, CountVectorizer,IDF,StringIndexer\n",
    "from pyspark.ml import Pipeline\n",
    "from string import punctuation\n",
    "from pyspark.sql.functions import lit, Column, length, col, count, corr, udf\n",
    "import pyspark.ml.feature as features\n",
    "import pyspark.sql.types as types\n",
    "from pyspark.mllib.stat import Statistics \n",
    "from pyspark.ml.classification import NaiveBayes\n",
    "from pyspark.ml.classification import RandomForestClassifier\n",
    "from pyspark.ml.evaluation import MulticlassClassificationEvaluator\n",
    "import re"
   ]
  },
  {
   "cell_type": "code",
   "execution_count": 35,
   "metadata": {},
   "outputs": [],
   "source": [
    "import pandas as pd"
   ]
  },
  {
   "cell_type": "code",
   "execution_count": 6,
   "metadata": {},
   "outputs": [],
   "source": [
    "import seaborn as sns\n",
    "import matplotlib.pyplot as plt\n",
    "%matplotlib inline"
   ]
  },
  {
   "cell_type": "code",
   "execution_count": null,
   "metadata": {},
   "outputs": [],
   "source": [
    "from IPython.display import display, HTML, display_html #usefull to display wide tables"
   ]
  },
  {
   "cell_type": "markdown",
   "metadata": {},
   "source": [
    "## Read the data"
   ]
  },
  {
   "cell_type": "code",
   "execution_count": 7,
   "metadata": {
    "scrolled": true
   },
   "outputs": [],
   "source": [
    "cb = spark.read.text(\"data/clickbait_data\")\\\n",
    ".filter(\"value != ''\")\\\n",
    ".withColumnRenamed('value','headline')\\\n",
    ".withColumn('label', lit(1))"
   ]
  },
  {
   "cell_type": "code",
   "execution_count": 8,
   "metadata": {},
   "outputs": [
    {
     "data": {
      "text/plain": [
       "[Row(headline='Should I Get Bings', label=1),\n",
       " Row(headline='Which TV Female Friend Group Do You Belong In', label=1),\n",
       " Row(headline='The New \"Star Wars: The Force Awakens\" Trailer Is Here To Give You Chills', label=1)]"
      ]
     },
     "execution_count": 8,
     "metadata": {},
     "output_type": "execute_result"
    }
   ],
   "source": [
    "cb.head(3)"
   ]
  },
  {
   "cell_type": "code",
   "execution_count": 9,
   "metadata": {},
   "outputs": [],
   "source": [
    "ncb = spark.read.text(\"data/non_clickbait_data\")\\\n",
    ".filter(\"value != ''\").withColumnRenamed('value','headline').withColumn('label', lit(0))"
   ]
  },
  {
   "cell_type": "code",
   "execution_count": 10,
   "metadata": {},
   "outputs": [
    {
     "data": {
      "text/plain": [
       "[Row(headline='Bill Changing Credit Card Rules Is Sent to Obama With Gun Measure Included', label=0),\n",
       " Row(headline='In Hollywood, the Easy-Money Generation Toughens Up', label=0),\n",
       " Row(headline=\"1700 runners still unaccounted for in UK's Lake District following flood\", label=0)]"
      ]
     },
     "execution_count": 10,
     "metadata": {},
     "output_type": "execute_result"
    }
   ],
   "source": [
    "ncb.head(3)"
   ]
  },
  {
   "cell_type": "code",
   "execution_count": 11,
   "metadata": {},
   "outputs": [],
   "source": [
    "data = cb.union(ncb)"
   ]
  },
  {
   "cell_type": "code",
   "execution_count": 12,
   "metadata": {},
   "outputs": [
    {
     "name": "stdout",
     "output_type": "stream",
     "text": [
      "root\n",
      " |-- headline: string (nullable = true)\n",
      " |-- label: integer (nullable = false)\n",
      "\n"
     ]
    }
   ],
   "source": [
    "data.printSchema()"
   ]
  },
  {
   "cell_type": "code",
   "execution_count": 13,
   "metadata": {},
   "outputs": [
    {
     "data": {
      "text/plain": [
       "DataFrame[headline: string, label: int]"
      ]
     },
     "execution_count": 13,
     "metadata": {},
     "output_type": "execute_result"
    }
   ],
   "source": [
    "data.cache()"
   ]
  },
  {
   "cell_type": "code",
   "execution_count": 14,
   "metadata": {},
   "outputs": [
    {
     "name": "stdout",
     "output_type": "stream",
     "text": [
      "+-----+-----+\n",
      "|label|count|\n",
      "+-----+-----+\n",
      "|    1|15999|\n",
      "|    0|16001|\n",
      "+-----+-----+\n",
      "\n"
     ]
    }
   ],
   "source": [
    "# click bait Vs non click-bait counts \n",
    "data.groupBy(\"label\").count().show()"
   ]
  },
  {
   "cell_type": "markdown",
   "metadata": {},
   "source": [
    "## Feature Engineering\n",
    "\n",
    "To build a classifier we need a little more than just the headline tex. So in this section I will following new features:\n",
    "\n",
    "    Number of words in the headline\n",
    "    Number of stop words in the headline\n",
    "    Number of contractions in the headline\n",
    "    Frequency of various parts of speech in the headline\n",
    "    Is the headline a question?\n",
    "    Ratio of stop words to total number of words\n",
    "    Ratio of contractions to total number of words\n",
    "\n",
    "Following functions will be used to build new features"
   ]
  },
  {
   "cell_type": "markdown",
   "metadata": {},
   "source": [
    "## Invalid chars"
   ]
  },
  {
   "cell_type": "code",
   "execution_count": 15,
   "metadata": {},
   "outputs": [],
   "source": [
    "def process_text(text):\n",
    "    result = text.replace('/', '').replace('\\n', '')\n",
    "    result = re.sub(r'[1-9]+', 'number', result)\n",
    "    result = re.sub(r'(\\w)(\\1{2,})', r'\\1', result)\n",
    "    result = re.sub(r'(?x)\\b(?=\\w*\\d)\\w+\\s*', '', result)\n",
    "    result = ''.join(t for t in result if t not in punctuation)\n",
    "    result = re.sub(r' +', ' ', result).lower().strip()\n",
    "    return result\n",
    "\n",
    "process_text_udf = udf(process_text, types.StringType())"
   ]
  },
  {
   "cell_type": "markdown",
   "metadata": {},
   "source": [
    "## count stop words"
   ]
  },
  {
   "cell_type": "code",
   "execution_count": 16,
   "metadata": {
    "scrolled": true
   },
   "outputs": [],
   "source": [
    "sw_df = spark.read.text(\"data/english_stopwords.txt\")\n",
    "stop_words = [val[\"value\"] for val in sw_df.toLocalIterator()]"
   ]
  },
  {
   "cell_type": "code",
   "execution_count": 17,
   "metadata": {},
   "outputs": [],
   "source": [
    "def count_stop_words(text):\n",
    "    s = text.split()\n",
    "    num = len([word for word in s if word in stop_words])\n",
    "    return num\n",
    "\n",
    "count_stop_words_udf = udf(count_stop_words, types.IntegerType())"
   ]
  },
  {
   "cell_type": "markdown",
   "metadata": {},
   "source": [
    "## questions and contarctions"
   ]
  },
  {
   "cell_type": "code",
   "execution_count": 18,
   "metadata": {},
   "outputs": [],
   "source": [
    "question_words = ['who', 'whos', 'whose', 'what', 'whats', 'whatre', 'when', 'whenre', 'whens', 'couldnt',\n",
    "        'where', 'wheres', 'whered', 'why', 'whys', 'can', 'cant', 'could', 'will', 'would', 'is',\n",
    "        'isnt', 'should', 'shouldnt', 'you', 'your', 'youre', 'youll', 'youd', 'here', 'heres',\n",
    "        'how', 'hows', 'howd', 'this', 'are', 'arent', 'which', 'does', 'doesnt']\n",
    "\n",
    "contractions = ['tis', 'aint', 'amnt', 'arent', 'cant', 'couldve', 'couldnt', 'couldntve',\n",
    "                'didnt', 'doesnt', 'dont', 'gonna', 'gotta', 'hadnt', 'hadntve', 'hasnt',\n",
    "                'havent', 'hed', 'hednt', 'hedve', 'hell', 'hes', 'hesnt', 'howd', 'howll',\n",
    "                'hows', 'id', 'idnt', 'idntve', 'idve', 'ill', 'im', 'ive', 'ivent', 'isnt',\n",
    "                'itd', 'itdnt', 'itdntve', 'itdve', 'itll', 'its', 'itsnt', 'mightnt',\n",
    "                'mightve', 'mustnt', 'mustntve', 'mustve', 'neednt', 'oclock', 'ol', 'oughtnt',\n",
    "                'shant', 'shed', 'shednt', 'shedntve', 'shedve', 'shell', 'shes', 'shouldve',\n",
    "                'shouldnt', 'shouldntve', 'somebodydve', 'somebodydntve', 'somebodys',\n",
    "                'someoned', 'someonednt', 'someonedntve', 'someonedve', 'someonell', 'someones',\n",
    "                'somethingd', 'somethingdnt', 'somethingdntve', 'somethingdve', 'somethingll',\n",
    "                'somethings', 'thatll', 'thats', 'thatd', 'thered', 'therednt', 'theredntve',\n",
    "                'theredve', 'therere', 'theres', 'theyd', 'theydnt', 'theydntve', 'theydve',\n",
    "                'theydvent', 'theyll', 'theyontve', 'theyre', 'theyve', 'theyvent', 'wasnt',\n",
    "                'wed', 'wedve', 'wednt', 'wedntve', 'well', 'wontve', 'were', 'weve', 'werent',\n",
    "                'whatd', 'whatll', 'whatre', 'whats', 'whatve', 'whens', 'whered', 'wheres',\n",
    "                'whereve', 'whod', 'whodve', 'wholl', 'whore', 'whos', 'whove', 'whyd', 'whyre',\n",
    "                'whys', 'wont', 'wontve', 'wouldve', 'wouldnt', 'wouldntve', 'yall', 'yalldve',\n",
    "                'yalldntve', 'yallll', 'yallont', 'yallllve', 'yallre', 'yallllvent', 'yaint',\n",
    "                'youd', 'youdve', 'youll', 'youre', 'yourent', 'youve', 'youvent']"
   ]
  },
  {
   "cell_type": "code",
   "execution_count": 19,
   "metadata": {},
   "outputs": [],
   "source": [
    "def num_contractions(text):\n",
    "    s = text.split()\n",
    "    num = len([word for word in s if word in contractions])\n",
    "    return num\n",
    "\n",
    "count_contractions_udf = udf(num_contractions, types.IntegerType())\n",
    "#-------------------------------------------------------------------\n",
    "def start_with_question_word(text):\n",
    "    s = text.split()\n",
    "    if s[0] in question_words:\n",
    "        return 1\n",
    "    else:\n",
    "        return 0\n",
    "    \n",
    "start_with_question_word_udf = udf(start_with_question_word, types.IntegerType())  \n",
    "#-------------------------------------------------------------------\n",
    "def part_of_speech(text):\n",
    "    import nltk\n",
    "    s = text.split()\n",
    "    nonstop = [word for word in s if word not in stop_words]\n",
    "    pos = [part[1] for part in nltk.pos_tag(nonstop)]\n",
    "    pos = ' '.join(pos)\n",
    "    return pos\n",
    "pos_tag_udf = udf(part_of_speech, types.StringType())"
   ]
  },
  {
   "cell_type": "markdown",
   "metadata": {},
   "source": [
    "## apply text processing"
   ]
  },
  {
   "cell_type": "code",
   "execution_count": 20,
   "metadata": {},
   "outputs": [],
   "source": [
    "data_cleaned = data.withColumn(\"cleaned\", process_text_udf(data['headline']))\\\n",
    "                   .withColumn('length',length('cleaned'))\\\n",
    "                   .withColumn(\"num_stop_words\",      count_stop_words_udf(\"cleaned\"))\\\n",
    "                   .withColumn(\"num_contractions\",    count_contractions_udf(\"cleaned\"))\\\n",
    "                   .withColumn(\"start_with_question\",  start_with_question_word_udf(\"cleaned\"))\\\n",
    "                   .withColumn(\"pos_tags\",  pos_tag_udf(\"cleaned\"))"
   ]
  },
  {
   "cell_type": "code",
   "execution_count": 21,
   "metadata": {
    "scrolled": false
   },
   "outputs": [
    {
     "name": "stdout",
     "output_type": "stream",
     "text": [
      "+--------------------+-----+--------------------+------+--------------+----------------+-------------------+--------------------+\n",
      "|            headline|label|             cleaned|length|num_stop_words|num_contractions|start_with_question|            pos_tags|\n",
      "+--------------------+-----+--------------------+------+--------------+----------------+-------------------+--------------------+\n",
      "|  Should I Get Bings|    1|  should i get bings|    18|             2|               0|                  1|              VB NNS|\n",
      "|Which TV Female F...|    1|which tv female f...|    45|             4|               0|                  1|     NN NN NN NN VBD|\n",
      "|The New \"Star War...|    1|the new star wars...|    70|             6|               0|                  0|JJ NN NNS VBP NNS...|\n",
      "|This Vine Of New ...|    1|this vine of new ...|    65|             4|               0|                  1|JJ JJ NN NN JJ NN...|\n",
      "|A Couple Did A St...|    1|a couple did a st...|   100|             9|               0|                  0|NN VBG NN NN NN V...|\n",
      "|How To Flirt With...|    1|how to flirt with...|    69|             6|               0|                  1|NN NN NNS IN VBG ...|\n",
      "|32 Cute Things To...|    1|number cute thing...|    61|             3|               0|                  0| NN JJ NNS JJ RB VBG|\n",
      "|If Disney Princes...|    1|if disney princes...|    38|             3|               1|                  0|          NN NNS VBP|\n",
      "|What's A Quote Or...|    1|whats a quote or ...|    58|             4|               1|                  1|NNS VBP JJ RBS JJ NN|\n",
      "|Natalie Dormer An...|    1|natalie dormer an...|    93|             6|               1|                  0|RB JJ NN NN NN NN...|\n",
      "|16 Perfect Respon...|    1|number perfect re...|    49|             2|               0|                  0|     NN JJ NNS JJ NN|\n",
      "|21 Times I Died D...|    1|number times i di...|    63|             3|               0|                  0|NN NNS VBD NN RB ...|\n",
      "|17 Times Kourtney...|    1|number times kour...|    57|             3|               0|                  0|NN NNS VBP JJ NNS NN|\n",
      "|Does Coffee Make ...|    1|does coffee make ...|    25|             2|               0|                  1|           NN VBP NN|\n",
      "|Who Is Your Celeb...|    1|who is your celeb...|    45|             5|               0|                  1|        NN NN VBN NN|\n",
      "|17 Hairdresser St...|    1|number hairdresse...|    62|             2|               0|                  0|NN NN VBZ DT JJ N...|\n",
      "|Are You More Walt...|    1|are you more walt...|    39|             4|               0|                  1|            NN JJ NN|\n",
      "|The Most Canadian...|    1|the most canadian...|    84|             8|               0|                  0|JJ NN RB VBD VBG ...|\n",
      "|Here's One Really...|    1|heres one really ...|    45|             1|               0|                  1|  NNS CD RB JJ NN NN|\n",
      "|15 Resolutions To...|    1|number resolution...|    37|             3|               0|                  0|       NN NNS VBP JJ|\n",
      "+--------------------+-----+--------------------+------+--------------+----------------+-------------------+--------------------+\n",
      "only showing top 20 rows\n",
      "\n"
     ]
    }
   ],
   "source": [
    "data_cleaned.show()"
   ]
  },
  {
   "cell_type": "code",
   "execution_count": 22,
   "metadata": {},
   "outputs": [],
   "source": [
    "# create ration columns\n",
    "data_cleaned2 = data_cleaned.withColumn(\"stop_word_ratio\", data_cleaned[\"num_stop_words\"]/data_cleaned[\"length\"])\\\n",
    "                            .withColumn(\"contraction_ratio\", data_cleaned[\"num_contractions\"]/data_cleaned[\"length\"]) "
   ]
  },
  {
   "cell_type": "code",
   "execution_count": 23,
   "metadata": {
    "scrolled": false
   },
   "outputs": [
    {
     "name": "stdout",
     "output_type": "stream",
     "text": [
      "+--------------------+--------------------+--------------------------------------+\n",
      "|stop_word_ratio     |contraction_ratio   |pos_tags                              |\n",
      "+--------------------+--------------------+--------------------------------------+\n",
      "|0.1111111111111111  |0.0                 |VB NNS                                |\n",
      "|0.08888888888888889 |0.0                 |NN NN NN NN VBD                       |\n",
      "|0.08571428571428572 |0.0                 |JJ NN NNS VBP NNS VBP JJ NNS          |\n",
      "|0.06153846153846154 |0.0                 |JJ JJ NN NN JJ NN NN NN               |\n",
      "|0.09                |0.0                 |NN VBG NN NN NN VBG JJ NN NN          |\n",
      "|0.08695652173913043 |0.0                 |NN NN NNS IN VBG JJ NN                |\n",
      "|0.04918032786885246 |0.0                 |NN JJ NNS JJ RB VBG                   |\n",
      "|0.07894736842105263 |0.02631578947368421 |NN NNS VBP                            |\n",
      "|0.06896551724137931 |0.017241379310344827|NNS VBP JJ RBS JJ NN                  |\n",
      "|0.06451612903225806 |0.010752688172043012|RB JJ NN NN NN NN VBP VBN RB JJ NN NNS|\n",
      "|0.04081632653061224 |0.0                 |NN JJ NNS JJ NN                       |\n",
      "|0.047619047619047616|0.0                 |NN NNS VBD NN RB JJ NN NN             |\n",
      "|0.05263157894736842 |0.0                 |NN NNS VBP JJ NNS NN                  |\n",
      "|0.08                |0.0                 |NN VBP NN                             |\n",
      "|0.1111111111111111  |0.0                 |NN NN VBN NN                          |\n",
      "|0.03225806451612903 |0.0                 |NN NN VBZ DT JJ NN VBZ JJ             |\n",
      "|0.10256410256410256 |0.0                 |NN JJ NN                              |\n",
      "|0.09523809523809523 |0.0                 |JJ NN RB VBD VBG JJ NNS VBP NN        |\n",
      "|0.022222222222222223|0.0                 |NNS CD RB JJ NN NN                    |\n",
      "|0.08108108108108109 |0.0                 |NN NNS VBP JJ                         |\n",
      "+--------------------+--------------------+--------------------------------------+\n",
      "only showing top 20 rows\n",
      "\n"
     ]
    }
   ],
   "source": [
    "data_cleaned2.select(\"stop_word_ratio\",\"contraction_ratio\",\"pos_tags\").show(truncate=False)"
   ]
  },
  {
   "cell_type": "code",
   "execution_count": 24,
   "metadata": {},
   "outputs": [
    {
     "data": {
      "text/plain": [
       "DataFrame[headline: string, label: int, cleaned: string, length: int, num_stop_words: int, num_contractions: int, start_with_question: int, pos_tags: string, stop_word_ratio: double, contraction_ratio: double]"
      ]
     },
     "execution_count": 24,
     "metadata": {},
     "output_type": "execute_result"
    }
   ],
   "source": [
    "data_cleaned2.cache()"
   ]
  },
  {
   "cell_type": "markdown",
   "metadata": {},
   "source": [
    "## lets explore some columns"
   ]
  },
  {
   "cell_type": "code",
   "execution_count": 25,
   "metadata": {},
   "outputs": [
    {
     "name": "stdout",
     "output_type": "stream",
     "text": [
      "root\n",
      " |-- headline: string (nullable = true)\n",
      " |-- label: integer (nullable = false)\n",
      " |-- cleaned: string (nullable = true)\n",
      " |-- length: integer (nullable = true)\n",
      " |-- num_stop_words: integer (nullable = true)\n",
      " |-- num_contractions: integer (nullable = true)\n",
      " |-- start_with_question: integer (nullable = true)\n",
      " |-- pos_tags: string (nullable = true)\n",
      " |-- stop_word_ratio: double (nullable = true)\n",
      " |-- contraction_ratio: double (nullable = true)\n",
      "\n"
     ]
    }
   ],
   "source": [
    "data_cleaned2.printSchema()"
   ]
  },
  {
   "cell_type": "markdown",
   "metadata": {},
   "source": [
    "### Headline starts with question"
   ]
  },
  {
   "cell_type": "code",
   "execution_count": 26,
   "metadata": {},
   "outputs": [
    {
     "data": {
      "text/plain": [
       "Text(0,0.5,'Number of Headlines')"
      ]
     },
     "execution_count": 26,
     "metadata": {},
     "output_type": "execute_result"
    },
    {
     "data": {
      "image/png": "[encoded data removed]",
      "text/plain": [
       "<Figure size 720x360 with 1 Axes>"
      ]
     },
     "metadata": {},
     "output_type": "display_data"
    }
   ],
   "source": [
    "question_df = data_cleaned2.groupBy('label', 'start_with_question').count().toPandas()\n",
    "\n",
    "figure, axes = plt.subplots(figsize=(10,5))\n",
    "plot = sns.barplot(x=\"start_with_question\", y=\"count\", hue=\"label\" , data=question_df)\n",
    "plot.set_xlabel('Headline Question')\n",
    "plot.set_ylabel('Number of Headlines')"
   ]
  },
  {
   "cell_type": "markdown",
   "metadata": {},
   "source": [
    "It seems that clickbait headlines are more likely start with a question."
   ]
  },
  {
   "cell_type": "markdown",
   "metadata": {},
   "source": [
    "### Number of words"
   ]
  },
  {
   "cell_type": "code",
   "execution_count": 27,
   "metadata": {},
   "outputs": [
    {
     "data": {
      "text/plain": [
       "Text(0,0.5,'Number of Headlines')"
      ]
     },
     "execution_count": 27,
     "metadata": {},
     "output_type": "execute_result"
    },
    {
     "data": {
      "image/png": "[encoded data removed]",
      "text/plain": [
       "<Figure size 1584x360 with 1 Axes>"
      ]
     },
     "metadata": {},
     "output_type": "display_data"
    }
   ],
   "source": [
    "length_pdf = data_cleaned2.groupBy('label', 'length').count().toPandas()\n",
    "\n",
    "figure, axes = plt.subplots(figsize=(22,5))\n",
    "plot = sns.barplot(x=\"length\", y=\"count\", hue=\"label\" , data=length_pdf)\n",
    "plot.set_xlabel('Number of Words')\n",
    "plot.set_ylabel('Number of Headlines')"
   ]
  },
  {
   "cell_type": "markdown",
   "metadata": {},
   "source": [
    "### Number of stop words"
   ]
  },
  {
   "cell_type": "code",
   "execution_count": 28,
   "metadata": {},
   "outputs": [
    {
     "data": {
      "text/plain": [
       "Text(0,0.5,'Number of Headlines')"
      ]
     },
     "execution_count": 28,
     "metadata": {},
     "output_type": "execute_result"
    },
    {
     "data": {
      "image/png": "[encoded data removed]",
      "text/plain": [
       "<Figure size 1584x360 with 1 Axes>"
      ]
     },
     "metadata": {},
     "output_type": "display_data"
    }
   ],
   "source": [
    "sw_pdf = data_cleaned2.groupBy('label', 'num_stop_words').count().toPandas()\n",
    "\n",
    "figure, axes = plt.subplots(figsize=(22,5))\n",
    "plot = sns.barplot(x=\"num_stop_words\", y=\"count\", hue=\"label\" , data=sw_pdf)\n",
    "plot.set_xlabel('Number of Stop Words')\n",
    "plot.set_ylabel('Number of Headlines')"
   ]
  },
  {
   "cell_type": "markdown",
   "metadata": {},
   "source": [
    "### Number of contractions"
   ]
  },
  {
   "cell_type": "code",
   "execution_count": 30,
   "metadata": {},
   "outputs": [
    {
     "data": {
      "text/plain": [
       "Text(0,0.5,'Number of Headlines')"
      ]
     },
     "execution_count": 30,
     "metadata": {},
     "output_type": "execute_result"
    },
    {
     "data": {
      "image/png": "[encoded data removed]",
      "text/plain": [
       "<Figure size 1584x360 with 1 Axes>"
      ]
     },
     "metadata": {},
     "output_type": "display_data"
    }
   ],
   "source": [
    "cont_pdf = data_cleaned2.groupBy('label', 'num_contractions').count().toPandas()\n",
    "figure, axes = plt.subplots(figsize=(22,5))\n",
    "plot = sns.barplot(x=\"num_contractions\", y=\"count\", hue=\"label\" , data=cont_pdf)\n",
    "plot.set_xlabel('Number of Contractions')\n",
    "plot.set_ylabel('Number of Headlines')"
   ]
  },
  {
   "cell_type": "markdown",
   "metadata": {},
   "source": [
    "###  numerical data correlation"
   ]
  },
  {
   "cell_type": "code",
   "execution_count": 31,
   "metadata": {},
   "outputs": [],
   "source": [
    "features = data_cleaned2.select(\"length\", \"num_stop_words\", \"num_contractions\", \n",
    "                                \"stop_word_ratio\",\"contraction_ratio\").rdd.map(lambda row: row[0:])\n",
    "#corr_mat=Statistics.corr(features, method=\"pearson\")\n",
    "#Statistics.corr(data_cleaned2, method=\"pearson\")"
   ]
  },
  {
   "cell_type": "code",
   "execution_count": 32,
   "metadata": {},
   "outputs": [],
   "source": [
    "corr_mat=Statistics.corr(features, method=\"pearson\")"
   ]
  },
  {
   "cell_type": "code",
   "execution_count": 38,
   "metadata": {},
   "outputs": [],
   "source": [
    "index = columns = [\"length\", \"num_stop_words\", \"num_contractions\", \"stop_word_ratio\",\"contraction_ratio\"]\n",
    "corr_pdf = pd.DataFrame(corr_mat,index=index, columns=columns)"
   ]
  },
  {
   "cell_type": "code",
   "execution_count": 40,
   "metadata": {},
   "outputs": [
    {
     "data": {
      "text/plain": [
       "<matplotlib.axes._subplots.AxesSubplot at 0x7fa873a50898>"
      ]
     },
     "execution_count": 40,
     "metadata": {},
     "output_type": "execute_result"
    },
    {
     "data": {
      "image/png": "[encoded data removed]",
      "text/plain": [
       "<Figure size 864x576 with 2 Axes>"
      ]
     },
     "metadata": {},
     "output_type": "display_data"
    }
   ],
   "source": [
    "#https://stackoverflow.com/questions/2318529/plotting-only-upper-lower-triangle-of-a-heatmap\n",
    "figure, axes = plt.subplots(figsize=(12,8))\n",
    "sns.heatmap(corr_pdf, annot=True, vmax=1, linewidths=.5, cmap='Blues')"
   ]
  },
  {
   "cell_type": "markdown",
   "metadata": {},
   "source": [
    "It seems that the following are correlated \n",
    "\n",
    "    > num_stop_words and stop_word_ratio\n",
    "    > num_contractions and contraction_ratio\n",
    "    > length and num_stop_words (small)\n",
    "\n",
    "This collinearity could impact accuracy of our classifier, so lets drop num_stop_words and num_contractions from our dataset."
   ]
  },
  {
   "cell_type": "code",
   "execution_count": 41,
   "metadata": {},
   "outputs": [],
   "source": [
    "data_cleaned3 = data_cleaned2.drop(\"drop num_stop_words\", \"num_contractions\")"
   ]
  },
  {
   "cell_type": "code",
   "execution_count": 43,
   "metadata": {},
   "outputs": [
    {
     "data": {
      "text/plain": [
       "DataFrame[headline: string, label: int, cleaned: string, length: int, num_stop_words: int, start_with_question: int, pos_tags: string, stop_word_ratio: double, contraction_ratio: double]"
      ]
     },
     "execution_count": 43,
     "metadata": {},
     "output_type": "execute_result"
    }
   ],
   "source": [
    "data_cleaned3.cache()"
   ]
  },
  {
   "cell_type": "markdown",
   "metadata": {},
   "source": [
    "## Create feature vector"
   ]
  },
  {
   "cell_type": "code",
   "execution_count": 44,
   "metadata": {
    "scrolled": true
   },
   "outputs": [],
   "source": [
    "# stages of pipeline\n",
    "tokenizer = Tokenizer(inputCol=\"cleaned\", outputCol=\"token_text\")\n",
    "stopremove = StopWordsRemover(inputCol='token_text',outputCol='stop_tokens')\n",
    "count_vec = CountVectorizer(inputCol='stop_tokens',outputCol='c_vec')\n",
    "idf = IDF(inputCol=\"c_vec\", outputCol=\"tf_idf\")\n",
    "\n",
    "\n",
    "pos_tokenizer = Tokenizer(inputCol=\"pos_tags\", outputCol=\"pos_token_text\")\n",
    "pos_count_vec = CountVectorizer(inputCol='pos_token_text',outputCol='pos_c_vec')\n",
    "\n",
    "make_featur_vector = VectorAssembler(inputCols=['tf_idf','length', 'num_stop_words', 'start_with_question', 'pos_c_vec', \n",
    "                                      'stop_word_ratio', 'contraction_ratio'],outputCol='features')\n",
    "# define the pipeline\n",
    "data_prep_pipe = Pipeline(stages=[tokenizer,                # get token from headline\n",
    "                                  stopremove,               # stopword tokens\n",
    "                                  count_vec,idf,            # idf vectoriser\n",
    "                                  pos_tokenizer,            # part of speach tokenizer\n",
    "                                  pos_count_vec,            # part of speach counter\n",
    "                                  make_featur_vector])      # create a vector of features\n",
    "\n",
    "# fit the data prep pipe line\n",
    "cleaner = data_prep_pipe.fit(data_cleaned3)\n",
    "\n",
    "# transfor the data\n",
    "clean_data = cleaner.transform(data_cleaned3)"
   ]
  },
  {
   "cell_type": "code",
   "execution_count": 45,
   "metadata": {},
   "outputs": [],
   "source": [
    "# We only need the feature vector and label\n",
    "final_data = clean_data.select(['label','features'])"
   ]
  },
  {
   "cell_type": "code",
   "execution_count": 46,
   "metadata": {},
   "outputs": [
    {
     "data": {
      "text/plain": [
       "Row(label=1, features=SparseVector(24116, {20: 4.4846, 17736: 9.6804, 24075: 18.0, 24076: 2.0, 24077: 1.0, 24079: 1.0, 24086: 1.0, 24114: 0.1111}))"
      ]
     },
     "execution_count": 46,
     "metadata": {},
     "output_type": "execute_result"
    }
   ],
   "source": [
    "final_data.head()"
   ]
  },
  {
   "cell_type": "code",
   "execution_count": 47,
   "metadata": {},
   "outputs": [],
   "source": [
    "del data, data_cleaned, data_cleaned2, data_cleaned3"
   ]
  },
  {
   "cell_type": "code",
   "execution_count": 48,
   "metadata": {},
   "outputs": [],
   "source": [
    "training, testing = final_data.randomSplit([0.7,0.3])"
   ]
  },
  {
   "cell_type": "markdown",
   "metadata": {},
   "source": [
    "## Lets just test a NaiveBayes classifier with default settings"
   ]
  },
  {
   "cell_type": "code",
   "execution_count": 49,
   "metadata": {},
   "outputs": [],
   "source": [
    "# Use defaults\n",
    "nb = NaiveBayes()"
   ]
  },
  {
   "cell_type": "code",
   "execution_count": 50,
   "metadata": {},
   "outputs": [],
   "source": [
    "cb_predictor = nb.fit(training)"
   ]
  },
  {
   "cell_type": "code",
   "execution_count": 51,
   "metadata": {},
   "outputs": [],
   "source": [
    "test_results = cb_predictor.transform(testing)"
   ]
  },
  {
   "cell_type": "code",
   "execution_count": 52,
   "metadata": {},
   "outputs": [
    {
     "name": "stdout",
     "output_type": "stream",
     "text": [
      "Test F1 score: 0.9641621756774466\n",
      "Test Accuracy = 0.964171 \n",
      "Test Error = 0.0358293 \n"
     ]
    }
   ],
   "source": [
    "evaluator = MulticlassClassificationEvaluator(  labelCol=\"label\", predictionCol=\"prediction\")\n",
    "f1 = evaluator.evaluate(test_results)\n",
    "print(\"Test F1 score: {}\".format(f1))\n",
    "\n",
    "# Select (prediction, true label) and compute test error\n",
    "evaluator = MulticlassClassificationEvaluator(labelCol=\"label\", predictionCol=\"prediction\", metricName=\"accuracy\")\n",
    "accuracy = evaluator.evaluate(test_results)\n",
    "print(\"Test Accuracy = %g \" % (accuracy)) \n",
    "print(\"Test Error = %g \" % (1.0 - accuracy))"
   ]
  },
  {
   "cell_type": "markdown",
   "metadata": {},
   "source": [
    "## Fit  Logistic Regtression model using Grid Search"
   ]
  },
  {
   "cell_type": "code",
   "execution_count": 86,
   "metadata": {},
   "outputs": [],
   "source": [
    "# https://spark.apache.org/docs/2.2.0/ml-tuning.html\n",
    "# https://spark.apache.org/docs/2.2.0/api/python/pyspark.ml.html#pyspark.ml.classification.LogisticRegression\n",
    "# https://spark.apache.org/docs/2.2.0/mllib-linear-methods.html#logistic-regression"
   ]
  },
  {
   "cell_type": "code",
   "execution_count": 64,
   "metadata": {},
   "outputs": [],
   "source": [
    "from pyspark.ml import Pipeline\n",
    "from pyspark.ml.classification import LogisticRegression\n",
    "from pyspark.ml.evaluation import MulticlassClassificationEvaluator\n",
    "from pyspark.ml.tuning import CrossValidator, ParamGridBuilder"
   ]
  },
  {
   "cell_type": "code",
   "execution_count": 104,
   "metadata": {},
   "outputs": [],
   "source": [
    "lr = LogisticRegression()\n",
    "pipeline = Pipeline(stages=[lr])"
   ]
  },
  {
   "cell_type": "code",
   "execution_count": 99,
   "metadata": {},
   "outputs": [],
   "source": [
    "# We now treat the Pipeline as an Estimator, wrapping it in a CrossValidator instance.\n",
    "# This will allow us to jointly choose parameters for all Pipeline stages.\n",
    "# A CrossValidator requires an Estimator, a set of Estimator ParamMaps, and an Evaluator.\n",
    "# We use a ParamGridBuilder to construct a grid of parameters to search over.\n",
    "# With 3 values for lr.regParam,\n",
    "# this grid will only have 3 parameter settings for CrossValidator to choose from.\n",
    "paramGrid = ParamGridBuilder().addGrid(lr.regParam, [0.1, 0.01, 0.001])\\\n",
    "                              .addGrid(lr.elasticNetParam,[0,0.1, 0.01, 0.03, 1])\\\n",
    "                              .addGrid(lr.maxIter, [100])\\\n",
    "                              .build()"
   ]
  },
  {
   "cell_type": "code",
   "execution_count": 100,
   "metadata": {},
   "outputs": [],
   "source": [
    "crossval = CrossValidator(estimator=lr,\n",
    "                          estimatorParamMaps=paramGrid,\n",
    "                          evaluator=MulticlassClassificationEvaluator(),\n",
    "                          numFolds=5)  "
   ]
  },
  {
   "cell_type": "code",
   "execution_count": 101,
   "metadata": {},
   "outputs": [],
   "source": [
    "# Run cross-validation, and choose the best set of parameters.\n",
    "cvModel = crossval.fit(training)"
   ]
  },
  {
   "cell_type": "code",
   "execution_count": 102,
   "metadata": {},
   "outputs": [],
   "source": [
    "train_summary = cvModel.bestModel.summary"
   ]
  },
  {
   "cell_type": "code",
   "execution_count": 80,
   "metadata": {},
   "outputs": [
    {
     "name": "stderr",
     "output_type": "stream",
     "text": [
      "/home/khurram/anaconda3/lib/python3.6/site-packages/ggplot/utils.py:81: FutureWarning: pandas.tslib is deprecated and will be removed in a future version.\n",
      "You can access Timestamp as pandas.Timestamp\n",
      "  pd.tslib.Timestamp,\n",
      "/home/khurram/anaconda3/lib/python3.6/site-packages/ggplot/stats/smoothers.py:4: FutureWarning: The pandas.lib module is deprecated and will be removed in a future version. These are private functions and can be accessed from pandas._libs.lib instead\n",
      "  from pandas.lib import Timestamp\n"
     ]
    }
   ],
   "source": [
    "# https://stackoverflow.com/questions/25009284/how-to-plot-roc-curve-in-python\n",
    "from ggplot import *"
   ]
  },
  {
   "cell_type": "code",
   "execution_count": 103,
   "metadata": {},
   "outputs": [
    {
     "data": {
      "image/png": "[encoded data removed]",
      "text/plain": [
       "<Figure size 792x576 with 1 Axes>"
      ]
     },
     "metadata": {},
     "output_type": "display_data"
    },
    {
     "data": {
      "text/plain": [
       "<ggplot: (-9223363264271072035)>"
      ]
     },
     "execution_count": 103,
     "metadata": {},
     "output_type": "execute_result"
    }
   ],
   "source": [
    "ggplot(train_summary.roc.toPandas(), aes(x = 'FPR', y = 'TPR')) \\\n",
    "+ geom_line(aes(y = 'TPR'))\\\n",
    "+ geom_area(alpha = 0.2) \\\n",
    "+ ggtitle(\"ROC Curve w/ AUC = %s\" % str(train_summary.areaUnderROC)) "
   ]
  },
  {
   "cell_type": "code",
   "execution_count": 92,
   "metadata": {},
   "outputs": [
    {
     "data": {
      "text/plain": [
       "DataFrame[threshold: double, F-Measure: double]"
      ]
     },
     "execution_count": 92,
     "metadata": {},
     "output_type": "execute_result"
    }
   ],
   "source": [
    "#train_summary.fMeasureByThreshold"
   ]
  },
  {
   "cell_type": "markdown",
   "metadata": {},
   "source": [
    "## Evaluate of test dataset"
   ]
  },
  {
   "cell_type": "code",
   "execution_count": 105,
   "metadata": {},
   "outputs": [],
   "source": [
    "# Make predictions on test documents. cvModel uses the best model found (lrModel).\n",
    "cv_prediction = cvModel.transform(testing)"
   ]
  },
  {
   "cell_type": "code",
   "execution_count": 106,
   "metadata": {},
   "outputs": [
    {
     "name": "stdout",
     "output_type": "stream",
     "text": [
      "Test F1 score: 0.9722665021060501\n",
      "Test Accuracy = 0.972271 \n",
      "Test Error = 0.0277287 \n"
     ]
    }
   ],
   "source": [
    "evaluator = MulticlassClassificationEvaluator( labelCol=\"label\", predictionCol=\"prediction\")\n",
    "f1 = evaluator.evaluate(cv_prediction)\n",
    "print(\"Test F1 score: {}\".format(f1))\n",
    "\n",
    "# Select (prediction, true label) and compute test error\n",
    "evaluator = MulticlassClassificationEvaluator(labelCol=\"label\", predictionCol=\"prediction\", metricName=\"accuracy\")\n",
    "accuracy = evaluator.evaluate(cv_prediction)\n",
    "print(\"Test Accuracy = %g \" % (accuracy)) \n",
    "print(\"Test Error = %g \" % (1.0 - accuracy))"
   ]
  },
  {
   "cell_type": "code",
   "execution_count": null,
   "metadata": {},
   "outputs": [],
   "source": [
    "Test F1 score: 0.9687304274588384\n",
    "Test Accuracy = 0.96874 \n",
    "Test Error = 0.0312597 "
   ]
  },
  {
   "cell_type": "code",
   "execution_count": null,
   "metadata": {},
   "outputs": [],
   "source": []
  },
  {
   "cell_type": "code",
   "execution_count": 1,
   "metadata": {},
   "outputs": [
    {
     "data": {
      "text/html": [
       "<style>.container { width:96% !important; }</style>"
      ],
      "text/plain": [
       "<IPython.core.display.HTML object>"
      ]
     },
     "metadata": {},
     "output_type": "display_data"
    }
   ],
   "source": [
    "from IPython.core.display import display, HTML\n",
    "display(HTML(\"<style>.container { width:96% !important; }</style>\"))"
   ]
  },
  {
   "cell_type": "code",
   "execution_count": null,
   "metadata": {},
   "outputs": [],
   "source": []
  }
 ],
 "metadata": {
  "kernelspec": {
   "display_name": "PySpark (Spark 2.2.1)",
   "language": "python",
   "name": "pyspark3"
  },
  "language_info": {
   "codemirror_mode": {
    "name": "ipython",
    "version": 3
   },
   "file_extension": ".py",
   "mimetype": "text/x-python",
   "name": "python",
   "nbconvert_exporter": "python",
   "pygments_lexer": "ipython3",
   "version": "3.6.4"
  }
 },
 "nbformat": 4,
 "nbformat_minor": 2
}
